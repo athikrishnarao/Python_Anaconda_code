{
 "cells": [
  {
   "cell_type": "code",
   "execution_count": 10,
   "metadata": {},
   "outputs": [
    {
     "name": "stdout",
     "output_type": "stream",
     "text": [
      "Enter the range of tree :5\n",
      "1 \n",
      "1 2 \n",
      "1 2 3 \n",
      "1 2 3 4 \n",
      "1 2 3 4 5 \n"
     ]
    }
   ],
   "source": [
    "n = int(input(\"Enter the range of tree :\"))\n",
    "for i in range(1,n+1):\n",
    "    for j in range(1,i+1):\n",
    "        print(j ,end=\" \")\n",
    "    print()"
   ]
  },
  {
   "cell_type": "code",
   "execution_count": 11,
   "metadata": {},
   "outputs": [
    {
     "name": "stdout",
     "output_type": "stream",
     "text": [
      "Enter the range of tree :5\n",
      "1 \n",
      "2 3 \n",
      "4 5 6 \n",
      "7 8 9 10 \n",
      "11 12 13 14 15 \n"
     ]
    }
   ],
   "source": [
    "n = int(input(\"Enter the range of tree :\"))\n",
    "num =1\n",
    "for i in range(1,n+1):\n",
    "    for j in range(1,i+1):\n",
    "        print(num ,end=\" \")\n",
    "        num+=1\n",
    "    print()"
   ]
  },
  {
   "cell_type": "code",
   "execution_count": 15,
   "metadata": {},
   "outputs": [
    {
     "name": "stdout",
     "output_type": "stream",
     "text": [
      "Enter the range of tree :5\n",
      "$ \n",
      "$ $ \n",
      "$ $ $ \n",
      "$ $ $ $ \n",
      "$ $ $ $ $ \n"
     ]
    }
   ],
   "source": [
    "n = int(input(\"Enter the range of tree :\"))\n",
    "for i in range(1,n+1):\n",
    "    for j in range(1,i+1):\n",
    "        print(\"$\" ,end=\" \")\n",
    "    print()"
   ]
  },
  {
   "cell_type": "code",
   "execution_count": 16,
   "metadata": {},
   "outputs": [],
   "source": [
    "#write a program that accepts a word from the user and reverse it using for loop"
   ]
  },
  {
   "cell_type": "code",
   "execution_count": 59,
   "metadata": {},
   "outputs": [
    {
     "name": "stdout",
     "output_type": "stream",
     "text": [
      "enter the Name: Athi\n",
      "i\n",
      "h\n",
      "t\n",
      "A\n"
     ]
    }
   ],
   "source": [
    "a = input(\"enter the Name: \")\n",
    "str_len = len(a)\n",
    "for i in range(0, str_len):\n",
    "    print(a[str_len -1])\n",
    "    str_len -=1"
   ]
  },
  {
   "cell_type": "code",
   "execution_count": 51,
   "metadata": {},
   "outputs": [
    {
     "name": "stdout",
     "output_type": "stream",
     "text": [
      "Enter your name:Athi\n",
      "rev_str:  ihtA\n"
     ]
    }
   ],
   "source": [
    "usr_ipt = input(\"Enter your name:\")\n",
    "rev_str = usr_ipt[::-1]\n",
    "print(\"rev_str: \", rev_str)"
   ]
  },
  {
   "cell_type": "code",
   "execution_count": 48,
   "metadata": {},
   "outputs": [
    {
     "name": "stdout",
     "output_type": "stream",
     "text": [
      "0.005430100000012317\n"
     ]
    }
   ],
   "source": [
    "# importing the required module  \n",
    "import timeit  \n",
    "  \n",
    "# code snippet to be executed only once  \n",
    "mysetup = \"from math import sqrt\"\n",
    "  \n",
    "# code snippet whose execution time is to be measured  \n",
    "mycode = '''  \n",
    "def str_rev():\n",
    "    a = input(\"enter the Name: \")\n",
    "    str_len = len(a)\n",
    "    for i in range(0, str_len):\n",
    "        print(a[str_len -1])\n",
    "        str_len -=1  \n",
    "'''\n",
    "  \n",
    "# timeit statement  \n",
    "print (timeit.timeit(stmt = mycode, \n",
    "                     number = 100000))  "
   ]
  },
  {
   "cell_type": "code",
   "execution_count": 50,
   "metadata": {},
   "outputs": [
    {
     "name": "stdout",
     "output_type": "stream",
     "text": [
      "0.008414599999923666\n"
     ]
    }
   ],
   "source": [
    "# importing the required module  \n",
    "import timeit  \n",
    "  \n",
    "# code snippet to be executed only once  \n",
    "mysetup = \"from math import sqrt\"\n",
    "  \n",
    "# code snippet whose execution time is to be measured  \n",
    "mycode1 = '''  \n",
    "def str_rev():\n",
    "    usr_ipt = input(\"Enter your name:\")\n",
    "    rev_str = usr_ipt[::-1]\n",
    "    print(\"rev_str: \", rev_str) \n",
    "'''\n",
    "  \n",
    "# timeit statement  \n",
    "print (timeit.timeit(stmt = mycode1, \n",
    "                     number = 100000)) "
   ]
  },
  {
   "cell_type": "code",
   "execution_count": 60,
   "metadata": {},
   "outputs": [
    {
     "name": "stdout",
     "output_type": "stream",
     "text": [
      "enter the Name: Athi\n",
      "['i', 'h', 't', 'A']\n"
     ]
    }
   ],
   "source": [
    "a = input(\"enter the Name: \")\n",
    "str_len = len(a)\n",
    "lst = []\n",
    "for i in range(0, str_len):\n",
    "    b = a[str_len -1]\n",
    "    lst.append(b)\n",
    "    str_len -=1\n",
    "print(str(lst))"
   ]
  },
  {
   "cell_type": "code",
   "execution_count": 74,
   "metadata": {},
   "outputs": [
    {
     "name": "stdout",
     "output_type": "stream",
     "text": [
      "[('c', 19), ('a', 32), ('d', 43), ('b', 54)]\n"
     ]
    }
   ],
   "source": [
    "# sort a tuple by 2nd item\n",
    "tup1 = (('a',32),('b',54),('c',19),('d',43))\n",
    "t = list(tup1)\n",
    "t.sort(key = lambda x : x[1])\n",
    "print(t)"
   ]
  },
  {
   "cell_type": "code",
   "execution_count": 75,
   "metadata": {},
   "outputs": [
    {
     "name": "stdout",
     "output_type": "stream",
     "text": [
      "[('akash', 5), ('rishav', 10), ('gaurav', 15), ('ram', 20)]\n"
     ]
    }
   ],
   "source": [
    "def Sort_Tuple(tup):  \n",
    "  \n",
    "    # reverse = None (Sorts in Ascending order)  \n",
    "    # key is set to sort using second element of  \n",
    "    # sublist lambda has been used  \n",
    "    tup.sort(key = lambda x: x[1])  \n",
    "    return tup  \n",
    "  \n",
    "# Driver Code  \n",
    "tup = [('rishav', 10), ('akash', 5), ('ram', 20), ('gaurav', 15)]  \n",
    "  \n",
    "# printing the sorted list of tuples \n",
    "print(Sort_Tuple(tup)) "
   ]
  },
  {
   "cell_type": "code",
   "execution_count": 82,
   "metadata": {},
   "outputs": [
    {
     "name": "stdout",
     "output_type": "stream",
     "text": [
      "[75, 46, 52, 23, 24, 91]\n",
      "{24, 52, 46}\n",
      "{91, 75, 23}\n"
     ]
    }
   ],
   "source": [
    "s ={23,52,24,75,46,91}\n",
    "t = list(s)\n",
    "print(t)\n",
    "t1 =[]\n",
    "t2 =[]\n",
    "for i in range(len(t)):\n",
    "    if t[i]%2 == 0:\n",
    "        t1.append(t[i])\n",
    "    else:\n",
    "        t2.append(t[i])\n",
    "print(set(t1))\n",
    "print(set(t2))"
   ]
  },
  {
   "cell_type": "code",
   "execution_count": 93,
   "metadata": {},
   "outputs": [
    {
     "name": "stdout",
     "output_type": "stream",
     "text": [
      "{'May': 330, 'December': 440, 'March': 550, 'June': 110, 'Augest': 220}\n",
      "{'June': 110, 'Augest': 220, 'May': 330, 'December': 440, 'March': 550}\n"
     ]
    }
   ],
   "source": [
    "dict1 = {'June':110, 'Augest':220, 'May':330}\n",
    "dict2 = {'May':330, 'December':440, 'March':550}\n",
    "dict2.update(dict1)\n",
    "print(dict2)\n",
    "\n",
    "dict3 = dict2\n",
    "sorted_values = sorted(dict3.values()) # Sort the values\n",
    "#print(sorted_values)\n",
    "sorted_dict = {}\n",
    "\n",
    "for i in sorted_values:\n",
    "    for k in dict3.keys():\n",
    "        #print(k)\n",
    "        if dict3[k] == i:\n",
    "            sorted_dict[k] = dict3[k]\n",
    "            break\n",
    "\n",
    "print(sorted_dict)"
   ]
  },
  {
   "cell_type": "code",
   "execution_count": 94,
   "metadata": {},
   "outputs": [
    {
     "name": "stdout",
     "output_type": "stream",
     "text": [
      "[('Processors', 65), ('Computer', 76), ('CPU', 82), ('Mouse', 98)]\n"
     ]
    }
   ],
   "source": [
    "def Sort_Tuple(tup):  \n",
    "  \n",
    "    # reverse = None (Sorts in Ascending order)  \n",
    "    # key is set to sort using second element of  \n",
    "    # sublist lambda has been used  \n",
    "    tup.sort(key = lambda x: x[1])  \n",
    "    return tup  \n",
    "  \n",
    "# Driver Code  \n",
    "tup = [('Computer', 76), ('CPU', 82), ('Mouse', 98), ('Processors', 65)]  \n",
    "  \n",
    "# printing the sorted list of tuples \n",
    "print(Sort_Tuple(tup)) "
   ]
  },
  {
   "cell_type": "code",
   "execution_count": 100,
   "metadata": {},
   "outputs": [
    {
     "name": "stdout",
     "output_type": "stream",
     "text": [
      "Enter the String: Athi is a fantastic person\n",
      "fantastic\n"
     ]
    }
   ],
   "source": [
    "b = input(\"Enter the String: \")\n",
    "counter = 0\n",
    "for i in b.split():\n",
    "    if (len(i)>counter):\n",
    "        counter=len(i)\n",
    "        temp = i\n",
    "print(temp)"
   ]
  },
  {
   "cell_type": "code",
   "execution_count": 105,
   "metadata": {},
   "outputs": [
    {
     "name": "stdout",
     "output_type": "stream",
     "text": [
      "Enter the String: Athi is a fantastic person\n",
      "9\n",
      "fantastic\n"
     ]
    }
   ],
   "source": [
    "b = input(\"Enter the String: \")\n",
    "counter = 0\n",
    "dict1={}\n",
    "for i in b.split():\n",
    "    b = len(i)\n",
    "    dict1[i]=b\n",
    "maximumval = max(list(dict1.values()))\n",
    "print(maximumval)\n",
    "for i,j in dict1.items():\n",
    "    if j==maximumval:\n",
    "        print(i)"
   ]
  },
  {
   "cell_type": "code",
   "execution_count": 106,
   "metadata": {},
   "outputs": [
    {
     "name": "stdout",
     "output_type": "stream",
     "text": [
      "Enter the String: Athi is a fantastic person\n",
      "fantastic\n"
     ]
    }
   ],
   "source": [
    "b = input(\"Enter the String: \")\n",
    "a=b.split()\n",
    "c=[]\n",
    "for i in a:\n",
    "    c.append(len(i))\n",
    "d=c.index(max(c))\n",
    "print(a[d])"
   ]
  },
  {
   "cell_type": "code",
   "execution_count": 109,
   "metadata": {},
   "outputs": [
    {
     "name": "stdout",
     "output_type": "stream",
     "text": [
      "Enter the String: Athi is a fantastic person\n",
      "fantastic\n"
     ]
    }
   ],
   "source": [
    "a_list = input(\"Enter the String: \")\n",
    "b=a_list.split()\n",
    "longest_string = max(b, key=len)\n",
    "print(longest_string)"
   ]
  },
  {
   "cell_type": "code",
   "execution_count": 111,
   "metadata": {},
   "outputs": [
    {
     "name": "stdout",
     "output_type": "stream",
     "text": [
      "P\n",
      "y\n",
      "t\n",
      "h\n",
      "o\n",
      "n\n",
      " \n",
      "W\n",
      "o\n",
      "r\n",
      "l\n",
      "d\n",
      "{'P': 1, 'y': 2, 't': 3, 'h': 4, 'o': 11, 'n': 7, ' ': 8, 'W': 9, 'r': 12, 'l': 13, 'd': 14}\n"
     ]
    }
   ],
   "source": [
    "strs = \"Python World\"\n",
    "char_count = {}\n",
    "count = 0\n",
    "for i in strs:\n",
    "    print(i)\n",
    "    for j in strs:\n",
    "        if (i == j):\n",
    "            count = count + 1\n",
    "            char_count[i]=count\n",
    "print(char_count)"
   ]
  },
  {
   "cell_type": "code",
   "execution_count": 118,
   "metadata": {},
   "outputs": [
    {
     "name": "stdout",
     "output_type": "stream",
     "text": [
      "{'P': 1, 'y': 1, 't': 1, 'h': 1, 'o': 2, 'n': 1, ' ': 1, 'W': 1, 'r': 1, 'l': 1, 'd': 1}\n"
     ]
    }
   ],
   "source": [
    "strs = \"Python World\"\n",
    "char_count = {}\n",
    "count = 0\n",
    "for i in strs:\n",
    "    char_count[i]=char_count.get(i,0)+1\n",
    "print(char_count)"
   ]
  },
  {
   "cell_type": "code",
   "execution_count": 124,
   "metadata": {},
   "outputs": [
    {
     "name": "stdout",
     "output_type": "stream",
     "text": [
      "['Apple', 'Apricot', 'Avocados']\n"
     ]
    }
   ],
   "source": [
    "fruit =[\"Apple\",\"Banana\",\"Guava\",\"Apricot\",\"Mango\",\"Avocados\"]\n",
    "x=sorted(fruit)\n",
    "print(x[:3])"
   ]
  },
  {
   "cell_type": "code",
   "execution_count": 126,
   "metadata": {},
   "outputs": [
    {
     "name": "stdout",
     "output_type": "stream",
     "text": [
      "The original list : ['Apple', 'Banana', 'Guava', 'Apricot', 'Mango', 'Avocados']\n",
      "The list without prefix s : ['Banana', 'Guava', 'Mango']\n",
      "The list with prefix s : ['Apple', 'Apricot', 'Avocados']\n"
     ]
    }
   ],
   "source": [
    "test_list =[\"Apple\",\"Banana\",\"Guava\",\"Apricot\",\"Mango\",\"Avocados\"]\n",
    "\n",
    "start_letter = 'A'\n",
    "  \n",
    "# printing original list \n",
    "print(\"The original list : \" + str(test_list)) \n",
    "  \n",
    "# using list comprehension + startswith() \n",
    "# Prefix Separation \n",
    "with_A = [x for x in test_list if x.startswith(start_letter)] \n",
    "without_A = [x for x in test_list if x not in with_A] \n",
    "  \n",
    "# print result \n",
    "print(\"The list without prefix s : \" + str(without_A)) \n",
    "print(\"The list with prefix s : \" + str(with_A)) "
   ]
  },
  {
   "cell_type": "code",
   "execution_count": 127,
   "metadata": {},
   "outputs": [
    {
     "name": "stdout",
     "output_type": "stream",
     "text": [
      "The original list : ['Apple', 'Banana', 'Guava', 'Apricot', 'Mango', 'Avocados']\n",
      "The list without prefix s : ['Banana', 'Guava', 'Mango']\n",
      "The list with prefix s : ['Apple', 'Apricot', 'Avocados']\n"
     ]
    }
   ],
   "source": [
    "test_list =[\"Apple\",\"Banana\",\"Guava\",\"Apricot\",\"Mango\",\"Avocados\"]\n",
    "\n",
    "# initializing start Prefix \n",
    "start_letter = 'A'\n",
    "  \n",
    "# printing original list \n",
    "print(\"The original list : \" + str(test_list)) \n",
    "  \n",
    "# using filter() + startswith() + lambda \n",
    "# Prefix Separation \n",
    "with_A = list(filter(lambda x: x.startswith(start_letter), test_list)) \n",
    "without_A = list(filter(lambda x: not x.startswith(start_letter), test_list)) \n",
    "  \n",
    "# print result \n",
    "print(\"The list without prefix s : \" + str(without_A)) \n",
    "print(\"The list with prefix s : \" + str(with_A))"
   ]
  },
  {
   "cell_type": "code",
   "execution_count": 139,
   "metadata": {},
   "outputs": [
    {
     "name": "stdout",
     "output_type": "stream",
     "text": [
      "[2, 4, 8, 10, 16, 18, 10, 8, 10] [1, 0, 0, 1, 0, 1, 1, 0, 1]\n",
      "[3, 4, 6, 7, 10, 11, 7, 6, 7] [-1, 0, 2, 3, 6, 7, 3, 2, 3]\n"
     ]
    }
   ],
   "source": [
    "test_list =[1,2,4,5,8,9,5,4,5]\n",
    "y = [x*2 for x in test_list]\n",
    "z=[x%2 for x in test_list]\n",
    "x=[x+2 for x in test_list]\n",
    "a=[x-2 for x in test_list]\n",
    "print(y,z)\n",
    "print(x,a)"
   ]
  },
  {
   "cell_type": "code",
   "execution_count": 143,
   "metadata": {},
   "outputs": [
    {
     "name": "stdout",
     "output_type": "stream",
     "text": [
      "['apple', 'banana', 'mango']\n",
      "['cherry', 'kiwi']\n",
      "['cherry']\n"
     ]
    }
   ],
   "source": [
    "fruits = [\"apple\", \"banana\", \"cherry\", \"kiwi\", \"mango\"]\n",
    "\n",
    "newlist = [x for x in fruits if \"a\" not in x]\n",
    "newlist1 = [x for x in fruits if \"a\" in x]\n",
    "a = [x for x in fruits if \"c\" in x]\n",
    "print(newlist1)\n",
    "print(newlist)\n",
    "print(a)"
   ]
  },
  {
   "cell_type": "code",
   "execution_count": 148,
   "metadata": {},
   "outputs": [
    {
     "name": "stdout",
     "output_type": "stream",
     "text": [
      "200.96\n",
      "50.24\n"
     ]
    }
   ],
   "source": [
    "class Circle():\n",
    "    def __init__(self, r):\n",
    "        self.radius = r\n",
    "\n",
    "    def area(self):\n",
    "        return self.radius**2*3.14\n",
    "    \n",
    "    def perimeter(self):\n",
    "        return 2*self.radius*3.14\n",
    "\n",
    "NewCircle = Circle(8)\n",
    "print(NewCircle.area())\n",
    "print(NewCircle.perimeter())"
   ]
  },
  {
   "cell_type": "code",
   "execution_count": 3,
   "metadata": {},
   "outputs": [
    {
     "name": "stdout",
     "output_type": "stream",
     "text": [
      "65\n",
      "A\n"
     ]
    }
   ],
   "source": [
    "x = ['A','B']\n",
    "print(ord(x[0]))\n",
    "print(chr(65))"
   ]
  },
  {
   "cell_type": "code",
   "execution_count": 21,
   "metadata": {},
   "outputs": [
    {
     "name": "stdout",
     "output_type": "stream",
     "text": [
      "['1', '5'] ['a', 'b', 'f'] ['A', 'Z']\n"
     ]
    }
   ],
   "source": [
    "x = ['a','b','f','A','Z','1','5']\n",
    "y =[]\n",
    "z = []\n",
    "a=[]\n",
    "for i in x:\n",
    "    b= ord(i)\n",
    "    #print(b)\n",
    "    if b>=48 and b<=57:\n",
    "        #print(\"Num\")\n",
    "        y.append(chr(b))    \n",
    "    elif b>=97 and b<=122:\n",
    "        #print(\"Small\")\n",
    "        z.append(chr(b))\n",
    "    else:\n",
    "        #print(\"Caps\")\n",
    "        a.append(chr(b))\n",
    "print(y,z,a)        "
   ]
  },
  {
   "cell_type": "code",
   "execution_count": null,
   "metadata": {},
   "outputs": [],
   "source": []
  }
 ],
 "metadata": {
  "kernelspec": {
   "display_name": "Python 3",
   "language": "python",
   "name": "python3"
  },
  "language_info": {
   "codemirror_mode": {
    "name": "ipython",
    "version": 3
   },
   "file_extension": ".py",
   "mimetype": "text/x-python",
   "name": "python",
   "nbconvert_exporter": "python",
   "pygments_lexer": "ipython3",
   "version": "3.8.5"
  }
 },
 "nbformat": 4,
 "nbformat_minor": 4
}
