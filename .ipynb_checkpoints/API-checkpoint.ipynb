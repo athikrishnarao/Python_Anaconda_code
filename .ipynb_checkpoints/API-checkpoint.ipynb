{
 "cells": [
  {
   "cell_type": "markdown",
   "metadata": {},
   "source": [
    "# API:\n",
    "1. We should know about client/server\n",
    "2. We should know about API/Webservice\n",
    "\n",
    "\n",
    "\n",
    "# Client / Server Architecture\n",
    "* 1 Tire Architecture -> Ex: notpad,MSword (this all contains one component)\n",
    "* 2 Tire Architecture -> Ex: Client and Database (Two Component)\n",
    "* 3 Tire Architecture -> Ex: WebBased Application => Client + Business Logic + Database (Internet is mandatory)\n",
    "\n",
    "Layers of 3 Tire Architecture:\n",
    "1. Presentation Layer\n",
    "2. Business Layer or Logic Layer\n",
    "3. Data Layer\n",
    "\n",
    "\n",
    "# Flask\n",
    "Flask support \n",
    "\n",
    "\n",
    "# Class Base DataBase\n"
   ]
  },
  {
   "cell_type": "markdown",
   "metadata": {},
   "source": [
    "# Web Development\n",
    "\n",
    "Endpoints:\n",
    "\n",
    "\n"
   ]
  },
  {
   "cell_type": "markdown",
   "metadata": {},
   "source": [
    "# API Testing\n",
    "CURD in API level  -->     HTTP Level\n",
    "1. Create          -->    POST\n",
    "2. Update              \n",
    "3. Read            -->    GET\n",
    "4. Delete\n"
   ]
  },
  {
   "cell_type": "code",
   "execution_count": null,
   "metadata": {},
   "outputs": [],
   "source": []
  }
 ],
 "metadata": {
  "kernelspec": {
   "display_name": "Python 3",
   "language": "python",
   "name": "python3"
  },
  "language_info": {
   "codemirror_mode": {
    "name": "ipython",
    "version": 3
   },
   "file_extension": ".py",
   "mimetype": "text/x-python",
   "name": "python",
   "nbconvert_exporter": "python",
   "pygments_lexer": "ipython3",
   "version": "3.8.5"
  }
 },
 "nbformat": 4,
 "nbformat_minor": 4
}
