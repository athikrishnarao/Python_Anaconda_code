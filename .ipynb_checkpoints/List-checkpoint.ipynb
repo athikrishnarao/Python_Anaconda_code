{
 "cells": [
  {
   "cell_type": "markdown",
   "metadata": {},
   "source": [
    "# List Function"
   ]
  },
  {
   "cell_type": "code",
   "execution_count": 1,
   "metadata": {},
   "outputs": [],
   "source": [
    "mobile =[\"micromax\",\"oppo\",\"vivo\",\"mi\"]"
   ]
  },
  {
   "cell_type": "code",
   "execution_count": 2,
   "metadata": {},
   "outputs": [
    {
     "data": {
      "text/plain": [
       "['micromax', 'oppo', 'vivo', 'mi']"
      ]
     },
     "execution_count": 2,
     "metadata": {},
     "output_type": "execute_result"
    }
   ],
   "source": [
    "mobile"
   ]
  },
  {
   "cell_type": "code",
   "execution_count": 3,
   "metadata": {},
   "outputs": [],
   "source": [
    "mobile.append(\"Apple\")"
   ]
  },
  {
   "cell_type": "code",
   "execution_count": 4,
   "metadata": {},
   "outputs": [
    {
     "data": {
      "text/plain": [
       "['micromax', 'oppo', 'vivo', 'mi', 'Apple']"
      ]
     },
     "execution_count": 4,
     "metadata": {},
     "output_type": "execute_result"
    }
   ],
   "source": [
    "mobile"
   ]
  },
  {
   "cell_type": "code",
   "execution_count": 5,
   "metadata": {},
   "outputs": [],
   "source": [
    "mobile.extend([\"samsung\",\"moto\"])"
   ]
  },
  {
   "cell_type": "code",
   "execution_count": 6,
   "metadata": {},
   "outputs": [
    {
     "data": {
      "text/plain": [
       "['micromax', 'oppo', 'vivo', 'mi', 'Apple', 'samsung', 'moto']"
      ]
     },
     "execution_count": 6,
     "metadata": {},
     "output_type": "execute_result"
    }
   ],
   "source": [
    "mobile"
   ]
  },
  {
   "cell_type": "code",
   "execution_count": 7,
   "metadata": {},
   "outputs": [],
   "source": [
    "mobile.insert(3,\"oneplus\")"
   ]
  },
  {
   "cell_type": "code",
   "execution_count": 8,
   "metadata": {},
   "outputs": [
    {
     "name": "stdout",
     "output_type": "stream",
     "text": [
      "67\n",
      "55\n"
     ]
    }
   ],
   "source": [
    "list1 = [34,67,55,33,12,98]\n",
    "for i in list1:\n",
    "    if(i>=50 and i<70):\n",
    "        print(i)"
   ]
  },
  {
   "cell_type": "code",
   "execution_count": 9,
   "metadata": {},
   "outputs": [
    {
     "name": "stdout",
     "output_type": "stream",
     "text": [
      "Gopi\n",
      "Babu\n"
     ]
    }
   ],
   "source": [
    "list1 = [\"Gopi\",10,30,True,\"Babu\",10.10]\n",
    "for i in list1:\n",
    "    if (type(i)==str):\n",
    "        print(i)"
   ]
  },
  {
   "cell_type": "code",
   "execution_count": 31,
   "metadata": {},
   "outputs": [
    {
     "data": {
      "text/plain": [
       "['None', 10, 30, True, 'None', 10.1]"
      ]
     },
     "execution_count": 31,
     "metadata": {},
     "output_type": "execute_result"
    }
   ],
   "source": [
    "list1 = [\"Gopi\",10,30,True,\"Babu\",10.10]\n",
    "for i in range(0, len(list1)):\n",
    "    if type(list1[i])==str:\n",
    "        list1[i]=\"None\"\n",
    "list1"
   ]
  },
  {
   "cell_type": "code",
   "execution_count": 40,
   "metadata": {},
   "outputs": [
    {
     "data": {
      "text/plain": [
       "['Gopi', '10', '30', 'True', 'Babu', '10.1']"
      ]
     },
     "execution_count": 40,
     "metadata": {},
     "output_type": "execute_result"
    }
   ],
   "source": [
    "list1 = [\"Gopi\",10,30,True,\"Babu\",10.10]\n",
    "for i in range(0, len(list1)):\n",
    "    if type(list1[i])!=str:\n",
    "        list1[i]= str(list1[i])\n",
    "list1"
   ]
  },
  {
   "cell_type": "code",
   "execution_count": 41,
   "metadata": {},
   "outputs": [
    {
     "name": "stdout",
     "output_type": "stream",
     "text": [
      "{'Name': 'Athi', 'age': 35}\n"
     ]
    }
   ],
   "source": [
    "dit ={\"Name\":\"Athi\",\"age\":35}\n",
    "print (dit)"
   ]
  },
  {
   "cell_type": "code",
   "execution_count": 44,
   "metadata": {},
   "outputs": [
    {
     "data": {
      "text/plain": [
       "['Gopi', 10.0, 30.0, 1.0, 'Babu', 10.1]"
      ]
     },
     "execution_count": 44,
     "metadata": {},
     "output_type": "execute_result"
    }
   ],
   "source": [
    "list1 = [\"Gopi\",10,30,True,\"Babu\",10.10]\n",
    "for i in range(0, len(list1)):\n",
    "    if type(list1[i])!=str:\n",
    "        list1[i]= float(list1[i])\n",
    "list1"
   ]
  },
  {
   "cell_type": "code",
   "execution_count": 72,
   "metadata": {},
   "outputs": [
    {
     "name": "stdout",
     "output_type": "stream",
     "text": [
      "1\n",
      "4\n",
      "9\n",
      "16\n",
      "25\n",
      "36\n",
      "49\n",
      "[1, 4, 9, 16, 25, 36, 49]\n"
     ]
    }
   ],
   "source": [
    "test = [1,2,3,4,5,6,7]\n",
    "for i in range(len(test)):\n",
    "    test[i] = test[i] ** 2\n",
    "    print(test[i])\n",
    "print(test)"
   ]
  },
  {
   "cell_type": "code",
   "execution_count": 73,
   "metadata": {},
   "outputs": [
    {
     "name": "stdout",
     "output_type": "stream",
     "text": [
      "['HelloDivya', 'HelloSam', 'HaiDivya', 'HaiSam']\n"
     ]
    }
   ],
   "source": [
    "lst1 = [\"Hello\" , \"Hai\"]\n",
    "lst2 = [\"Divya\" , \"Sam\"]\n",
    "lst3 = []\n",
    "for i in range(0, len(lst1)):\n",
    "    for j in range(0, len(lst2)):\n",
    "        ls = lst1[i] + lst2[j]\n",
    "        lst3.append(ls)\n",
    "print(lst3)"
   ]
  },
  {
   "cell_type": "code",
   "execution_count": 23,
   "metadata": {},
   "outputs": [
    {
     "name": "stdout",
     "output_type": "stream",
     "text": [
      "['Welcome', 'to', 'Python', 'World']\n"
     ]
    }
   ],
   "source": [
    "ls1 = [\"Wel\", \"t\", \"Py\", \"Wor\"]\n",
    "ls2 = [\"come\", \"o\", \"thon\", \"ld\"]\n",
    "ls3 = []\n",
    "for i in range(0,len(ls1)):\n",
    "    #for j in range(0,len(ls2)):\n",
    "    ls = ls1[i] + ls2[i]\n",
    "    ls3.append(ls)\n",
    "print(ls3)"
   ]
  },
  {
   "cell_type": "code",
   "execution_count": 46,
   "metadata": {},
   "outputs": [
    {
     "name": "stdout",
     "output_type": "stream",
     "text": [
      "17\n"
     ]
    }
   ],
   "source": [
    "#Given a list of numbers, return whether any two sums to k. For example, given [10, 15, 3, 7] and k of 17, return true since 10 + 7 is 17.\n",
    "\n",
    "ls4 = [10,15,3,7]\n",
    "for i in range(0,len(ls4)):\n",
    "    for j in range(i+1,len(ls4)):\n",
    "        k = ls4[i] + ls4[j]\n",
    "        #print (k)\n",
    "        if k == 17:\n",
    "            print(k)\n",
    "        "
   ]
  },
  {
   "cell_type": "code",
   "execution_count": 59,
   "metadata": {},
   "outputs": [
    {
     "name": "stdout",
     "output_type": "stream",
     "text": [
      "5\n"
     ]
    }
   ],
   "source": [
    "#If our input was [1, 2, 3, 4, 5], the expected output would be [120, 60, 40, 30, 24]. If our input was [3, 2, 1], the expected output would be [2, 3, 6].\n",
    "ls5 = [1,2,3,4,5]\n",
    "ls6 = []\n",
    "for i in range(len(ls5)):\n",
    "    if i == 0:\n",
    "        for j in range(i+1,len(ls5)):\n",
    "            k= ls5[i]*ls5[j]\n",
    "            ls6.append(k)\n",
    "        i += 1\n",
    "        print(k)"
   ]
  },
  {
   "cell_type": "code",
   "execution_count": 63,
   "metadata": {},
   "outputs": [
    {
     "name": "stdout",
     "output_type": "stream",
     "text": [
      "The product array is:\n",
      "[0, 0, 0, 0, 0]\n",
      "[0, 0, 0, 0, 0]\n",
      "[0, 0, 0, 0, 0]\n",
      "120 60 40 30 24 "
     ]
    }
   ],
   "source": [
    "def productArray(arr, n):  \n",
    "  \n",
    "    # Base case \n",
    "    if(n == 1): \n",
    "        print(0) \n",
    "        return\n",
    "          \n",
    "    # Allocate memory for temporary arrays left[] and right[]  \n",
    "    left = [0]*n  \n",
    "    right = [0]*n  \n",
    "    print (left)\n",
    "    print (right)\n",
    "  \n",
    "    # Allocate memory for the product array  \n",
    "    prod = [0]*n\n",
    "    print (prod)\n",
    "  \n",
    "    # Left most element of left array is always 1  \n",
    "    left[0] = 1\n",
    "  \n",
    "    # Rightmost most element of right array is always 1  \n",
    "    right[n - 1] = 1\n",
    "  \n",
    "    # Construct the left array  \n",
    "    for i in range(1, n):  \n",
    "        left[i] = arr[i - 1] * left[i - 1]  \n",
    "        \n",
    "    # Construct the right array  \n",
    "    for j in range(n-2, -1, -1):  \n",
    "        right[j] = arr[j + 1] * right[j + 1]  \n",
    "  \n",
    "    # Construct the product array using  \n",
    "    # left[] and right[]  \n",
    "    for i in range(n):  \n",
    "        prod[i] = left[i] * right[i]  \n",
    "  \n",
    "    # print the constructed prod array  \n",
    "    for i in range(n):  \n",
    "        print(prod[i], end =' ')  \n",
    "  \n",
    "  \n",
    "# Driver code  \n",
    "arr = [1, 2, 3, 4, 5]  \n",
    "n = len(arr)  \n",
    "print(\"The product array is:\")  \n",
    "productArray(arr, n)  "
   ]
  },
  {
   "cell_type": "code",
   "execution_count": 64,
   "metadata": {},
   "outputs": [
    {
     "name": "stdout",
     "output_type": "stream",
     "text": [
      "enter the the length of list5\n",
      "enter element1\n",
      "enter element5\n",
      "enter element10\n",
      "enter element12\n",
      "enter element7\n",
      "enter the guessed value17\n",
      "[1, 5, 10, 12, 7]\n",
      "true\n",
      "true\n"
     ]
    }
   ],
   "source": [
    "listsize=int(input(\"enter the the length of list\"))\n",
    "list1=[]\n",
    "\n",
    "\n",
    "for i in range(0,listsize):\n",
    "    k=int(input(\"enter element\"))\n",
    "    list1.append(k)\n",
    "guess=int(input(\"enter the guessed value\"));\n",
    "print(list1)\n",
    "for i in range(listsize):\n",
    "    \n",
    "    for j in range(i,listsize):\n",
    "        sum=0;        \n",
    "        sum=list1[i]+list1[j]\n",
    "        if(guess==sum):\n",
    "            print(\"true\")\n",
    "            break;"
   ]
  },
  {
   "cell_type": "code",
   "execution_count": 67,
   "metadata": {},
   "outputs": [
    {
     "name": "stdout",
     "output_type": "stream",
     "text": [
      "Enter the size of list: 5\n",
      "Enter the value of list: \n",
      "01\n",
      "12\n",
      "23\n",
      "34\n",
      "45\n",
      "[1, 2, 3, 4, 5]\n",
      "[120, 60, 40, 30, 24]\n"
     ]
    }
   ],
   "source": [
    "list1 =[]\n",
    "list2 = []\n",
    "b= int(input(\"Enter the size of list: \"))\n",
    "print (\"Enter the value of list: \")\n",
    "for i in range(0,b):\n",
    "    Value1=int(input(i))\n",
    "    list1.append(Value1)\n",
    "print(list1)\n",
    "for i in range(len(list1)):\n",
    "    product = 1\n",
    "    for j in range(len(list1)):\n",
    "        if i != j:\n",
    "            product = product * list1[j]\n",
    "    list2.append(product)\n",
    "print(list2)"
   ]
  },
  {
   "cell_type": "code",
   "execution_count": null,
   "metadata": {},
   "outputs": [],
   "source": []
  }
 ],
 "metadata": {
  "kernelspec": {
   "display_name": "Python 3",
   "language": "python",
   "name": "python3"
  },
  "language_info": {
   "codemirror_mode": {
    "name": "ipython",
    "version": 3
   },
   "file_extension": ".py",
   "mimetype": "text/x-python",
   "name": "python",
   "nbconvert_exporter": "python",
   "pygments_lexer": "ipython3",
   "version": "3.8.5"
  }
 },
 "nbformat": 4,
 "nbformat_minor": 4
}
