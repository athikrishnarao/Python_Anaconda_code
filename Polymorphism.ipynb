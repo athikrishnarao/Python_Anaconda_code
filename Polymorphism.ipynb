{
 "cells": [
  {
   "cell_type": "markdown",
   "metadata": {},
   "source": [
    "# Polymorphism\n",
    "\n",
    "Overloading \n",
    "OverRidding\n",
    "\n",
    "Overloading:\n",
    "-> Same class and same method but differnt no of arguments. Its called Method Overloading.\n",
    "\n",
    "-> Same class and same method and same arguments but arguments data type only change. Its called Method Overloading.\n",
    "\n",
    "So method overloading is not directly applicable for Python.\n",
    "\n",
    "OverRidding:\n",
    "-> Same function used both Parent Class and Child class means that is called OverRidding.\n",
    "\n"
   ]
  },
  {
   "cell_type": "markdown",
   "metadata": {},
   "source": [
    "# Methods of Python classes\n",
    "\n",
    "Inside the class define function is called \"Methods\"\n",
    "Outside the class defice function is called \"Functions\"\n",
    "\n",
    "1. Instance Methods\n",
    "  --> def method_name(self)\n",
    "2. Class Methods(keyword \"@classmethod\"\n",
    "  --> def method_name(cls)\n",
    "3. Static Methods (Keyword \"@staticmethod\"\n",
    "  --> def method_name()\n",
    " "
   ]
  },
  {
   "cell_type": "markdown",
   "metadata": {},
   "source": [
    "# Encapsulation = Data Hiding + Abstraction\n",
    "\n",
    "Encapsulating data and corresponding methods(behaviour) into a single module is called encapsulation\n",
    "- Encapsulation = Data Hiding + Abstraction\n",
    "\n",
    "Types:\n",
    "1. Data Hiding \n",
    "    -> Only hide the variables in the class using Private ( _variablename )\n",
    "2. Implementation Hiding\n",
    "    -> Only hide the methods in the class using Private ( def _methodname(self) )\n",
    "\n"
   ]
  },
  {
   "cell_type": "markdown",
   "metadata": {},
   "source": [
    "# Learn Modules\n",
    "1. "
   ]
  },
  {
   "cell_type": "markdown",
   "metadata": {},
   "source": [
    "# Read and Write the Files\n",
    "\n",
    "# Types of Files:\n",
    "1. Text File --> File contain sequence of character. It can open any SW. ex(.txt,.html)\n",
    "2. Binary File --> File contain encoded format of character. It can open specific SW. ex(Excel,PDF,Database)\n",
    "\n",
    "# How to open the file in Python\n",
    "Build-in Method:\n",
    "1. Open the file:\n",
    "        file_obj = open(filepath, mode)\n",
    "Types of Modes:\n",
    "1. 'r' - Read Mode \"open the file for Reading\" (cursor is first row first coloum)\n",
    "2. 'w' - Write Mode \"open the file for Writing\" (New content inly available old contnet was deleted)\n",
    "3. 'a' - Append Mode \"open the file for Appending\"\n",
    "4. 'r+' - Read/Write Read the data and Write a new Data Mode \"open the file for both Read and Write\"\n",
    "5. 'a+' - Read/Append Read and Append Mode \"open the file for both Read and Append\"\n",
    "\n",
    "\n",
    "Functions:\n",
    "1. 'for write':file_obj.write(content)\n",
    "2. 'for read':file_obj.read()\n",
    "\n",
    "Close the File:\n",
    "1. file_obj.close()\n",
    "    \n"
   ]
  },
  {
   "cell_type": "markdown",
   "metadata": {},
   "source": [
    "# JSON\n",
    "\n",
    "\n",
    "# Python                            # JSON\n",
    "    1. dict                            1. object\n",
    "    2. list,tuple                      2. array\n",
    "    3. str                             3. string\n",
    "    4. int,float,long                  4. number\n",
    "    5. True,False                      5. true,false\n",
    "    6. None                            6. null\n",
    "    \n",
    "1. Encoding --> Python to JSON\n",
    "2. Decoding --> JSON to Python\n",
    "\n",
    "Methods:\n",
    "1. dump -> Write a JSON file\n",
    "2. dumps -> Convert python to JSON\n",
    "3. load -> load the JSON file\n",
    "4. loads -> Convert JSON to Python\n",
    "\n",
    "    "
   ]
  },
  {
   "cell_type": "markdown",
   "metadata": {},
   "source": [
    "# EXCEL\n",
    "Excel Process\n",
    "\n",
    "1. Open the EXCEL File\n",
    "    2. WORKBOOK\n",
    "        3. SHEET\n",
    "            4. ROW\n",
    "                5. CELL -> ACTION (Read,Write)"
   ]
  },
  {
   "cell_type": "code",
   "execution_count": null,
   "metadata": {},
   "outputs": [],
   "source": []
  }
 ],
 "metadata": {
  "kernelspec": {
   "display_name": "Python 3",
   "language": "python",
   "name": "python3"
  },
  "language_info": {
   "codemirror_mode": {
    "name": "ipython",
    "version": 3
   },
   "file_extension": ".py",
   "mimetype": "text/x-python",
   "name": "python",
   "nbconvert_exporter": "python",
   "pygments_lexer": "ipython3",
   "version": "3.8.5"
  }
 },
 "nbformat": 4,
 "nbformat_minor": 4
}
