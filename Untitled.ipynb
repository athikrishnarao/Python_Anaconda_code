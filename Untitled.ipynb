{
 "cells": [
  {
   "cell_type": "code",
   "execution_count": 3,
   "metadata": {},
   "outputs": [],
   "source": [
    "def find_large(a,b,c):\n",
    "    if a>b and a>c:\n",
    "        print(\"A is greater than B\")\n",
    "    elif b>c and b>a:\n",
    "        print(\"B is greater than C\")\n",
    "    else:\n",
    "        print(\"C is greater\")\n"
   ]
  },
  {
   "cell_type": "code",
   "execution_count": 4,
   "metadata": {},
   "outputs": [
    {
     "name": "stdout",
     "output_type": "stream",
     "text": [
      "A is greater than B\n"
     ]
    }
   ],
   "source": [
    "find_large(8,5,3)"
   ]
  },
  {
   "cell_type": "code",
   "execution_count": 21,
   "metadata": {},
   "outputs": [],
   "source": [
    "x= lambda a,b : \"A greater than B\" if a>b else \"B is greater\""
   ]
  },
  {
   "cell_type": "code",
   "execution_count": 22,
   "metadata": {},
   "outputs": [
    {
     "data": {
      "text/plain": [
       "'A greater than B'"
      ]
     },
     "execution_count": 22,
     "metadata": {},
     "output_type": "execute_result"
    }
   ],
   "source": [
    "x(10,5)"
   ]
  },
  {
   "cell_type": "code",
   "execution_count": 18,
   "metadata": {},
   "outputs": [],
   "source": [
    "def power_root(a,b):\n",
    "    return a**b"
   ]
  },
  {
   "cell_type": "code",
   "execution_count": 19,
   "metadata": {},
   "outputs": [
    {
     "data": {
      "text/plain": [
       "8"
      ]
     },
     "execution_count": 19,
     "metadata": {},
     "output_type": "execute_result"
    }
   ],
   "source": [
    "power_root(2,3)"
   ]
  },
  {
   "cell_type": "code",
   "execution_count": 20,
   "metadata": {},
   "outputs": [
    {
     "name": "stdout",
     "output_type": "stream",
     "text": [
      "[1, 4, 9, 16, 25, 36, 49, 64, 81]\n"
     ]
    }
   ],
   "source": [
    "lit1 = [1,2,3,4,5,6,7,8,9]\n",
    "lit2 = []\n",
    "for i in range(len(lit1)):\n",
    "    lit2.append(power_root(lit1[i],2))\n",
    "print(lit2)"
   ]
  },
  {
   "cell_type": "code",
   "execution_count": 29,
   "metadata": {},
   "outputs": [
    {
     "name": "stdout",
     "output_type": "stream",
     "text": [
      "2\n",
      "3\n"
     ]
    }
   ],
   "source": [
    "t =(1,2,3,4,5,6,7,5)\n",
    "print(t.count(5))\n",
    "print(t.index(4))"
   ]
  },
  {
   "cell_type": "code",
   "execution_count": 64,
   "metadata": {},
   "outputs": [
    {
     "name": "stdout",
     "output_type": "stream",
     "text": [
      "[1, 2, 2, 2, 4, 5, 5, 5, 6, 7, 8, 8, 8, 9]\n",
      "[9, 8, 8, 8, 7, 6, 5, 5, 5, 4, 2, 2, 2, 1]\n",
      "[9, 8, 8, 8, 7, 6, 5, 5, 5, 4, 2, 2, 2, 1, 'w']\n",
      "3\n",
      "[9, 8, 8, 8, 7, 6, 5, 5, 5, 4, 2, 2, 2, 1, 'w']\n",
      "[20, 9, 8, 8, 8, 7, 6, 5, 5, 5, 4, 2, 2, 2, 1, 'w']\n"
     ]
    }
   ],
   "source": [
    "lit3 =[1,2,2,5,8,8,7,8,9,5,4,2,6,5]\n",
    "lit3.sort()\n",
    "print(lit3)\n",
    "lit3.reverse()\n",
    "print(lit3)\n",
    "lit3.extend('w')\n",
    "print(lit3)\n",
    "print(lit3.count(8))\n",
    "lit4 = lit3.copy()\n",
    "print(lit4)\n",
    "lit3.insert(0,20)\n",
    "print(lit3)"
   ]
  },
  {
   "cell_type": "code",
   "execution_count": 69,
   "metadata": {},
   "outputs": [
    {
     "name": "stdout",
     "output_type": "stream",
     "text": [
      "[20, 10, 9, 8, 8, 5, 4, 2] [2, 4, 5, 8, 8, 9, 10, 20]\n"
     ]
    }
   ],
   "source": [
    "li = [2,4,8,9,10,20,5,8]\n",
    "x = sorted(li,reverse=True)\n",
    "y = sorted(li,reverse=False)\n",
    "print(x,y)"
   ]
  },
  {
   "cell_type": "code",
   "execution_count": 73,
   "metadata": {},
   "outputs": [
    {
     "name": "stdout",
     "output_type": "stream",
     "text": [
      "How many terms? 15\n",
      "Fibonacci sequence:\n",
      "0\n",
      "1\n",
      "1\n",
      "2\n",
      "3\n",
      "5\n",
      "8\n",
      "13\n",
      "21\n",
      "34\n",
      "55\n",
      "89\n",
      "144\n",
      "233\n",
      "377\n"
     ]
    }
   ],
   "source": [
    "# Fibonacci Number\n",
    "nterms = int(input(\"How many terms? \"))\n",
    "\n",
    "# first two terms\n",
    "n1, n2 = 0, 1\n",
    "count = 0\n",
    "\n",
    "# check if the number of terms is valid\n",
    "if nterms <= 0:\n",
    "   print(\"Please enter a positive integer\")\n",
    "elif nterms == 1:\n",
    "   print(\"Fibonacci sequence upto\",nterms,\":\")\n",
    "   print(n1)\n",
    "else:\n",
    "   print(\"Fibonacci sequence:\")\n",
    "   while count < nterms:\n",
    "       print(n1)\n",
    "       nth = n1 + n2\n",
    "       # update values\n",
    "       n1 = n2\n",
    "       n2 = nth\n",
    "       count += 1"
   ]
  },
  {
   "cell_type": "code",
   "execution_count": null,
   "metadata": {},
   "outputs": [],
   "source": []
  }
 ],
 "metadata": {
  "kernelspec": {
   "display_name": "Python 3",
   "language": "python",
   "name": "python3"
  },
  "language_info": {
   "codemirror_mode": {
    "name": "ipython",
    "version": 3
   },
   "file_extension": ".py",
   "mimetype": "text/x-python",
   "name": "python",
   "nbconvert_exporter": "python",
   "pygments_lexer": "ipython3",
   "version": "3.8.5"
  }
 },
 "nbformat": 4,
 "nbformat_minor": 4
}
